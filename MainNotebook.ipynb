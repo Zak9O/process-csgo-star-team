{
 "cells": [
  {
   "cell_type": "code",
   "id": "initial_id",
   "metadata": {
    "collapsed": true,
    "jupyter": {
     "outputs_hidden": true
    },
    "ExecuteTime": {
     "end_time": "2025-10-30T09:18:37.940536Z",
     "start_time": "2025-10-30T09:18:36.083743Z"
    }
   },
   "source": [
    "import CreateLog\n",
    "from demoparser2 import DemoParser\n",
    "from CreateXESfile import getEventLog"
   ],
   "outputs": [],
   "execution_count": 1
  },
  {
   "cell_type": "markdown",
   "id": "78ad1d5a6ec8a2fa",
   "metadata": {},
   "source": [
    "##Setting up\n",
    "\n",
    "Initially we want to read in a demo file and create a DemoParser object.\n",
    "The DemoParser class takes in the path to a demo file and parses it. The parsed data can be explored using various methods and attributes of the DemoParser class."
   ]
  },
  {
   "cell_type": "code",
   "id": "fa4d9dd38cd6b42",
   "metadata": {
    "ExecuteTime": {
     "end_time": "2025-10-30T09:18:39.335309Z",
     "start_time": "2025-10-30T09:18:37.948447Z"
    }
   },
   "source": [
    "parser = DemoParser(\"demos/heroic-vs-3dmax-m1-dust2.dem\")\n",
    "ticks = parser.parse_ticks([\"tick\", \"name\", \"is_alive\", \"team_name\",\"bomb_exploded\"])"
   ],
   "outputs": [],
   "execution_count": 2
  },
  {
   "cell_type": "markdown",
   "id": "244f231f0b3040aa",
   "metadata": {},
   "source": []
  },
  {
   "cell_type": "code",
   "id": "53c19dd245788d7b",
   "metadata": {
    "ExecuteTime": {
     "end_time": "2025-10-30T09:18:50.029030Z",
     "start_time": "2025-10-30T09:18:39.419669Z"
    }
   },
   "source": [
    "getEventLog(parser)"
   ],
   "outputs": [
    {
     "name": "stdout",
     "output_type": "stream",
     "text": [
      "Creating log...\n"
     ]
    },
    {
     "data": {
      "text/plain": [
       "Rounds:   0%|          | 0/3 [00:00<?, ?it/s]"
      ],
      "application/vnd.jupyter.widget-view+json": {
       "version_major": 2,
       "version_minor": 0,
       "model_id": "d9ae40a577f24671b831bd37edc9853f"
      }
     },
     "metadata": {},
     "output_type": "display_data",
     "jetTransient": {
      "display_id": null
     }
    },
    {
     "data": {
      "text/plain": [
       "Round 1 ticks:   0%|          | 0/55 [00:00<?, ?it/s]"
      ],
      "application/vnd.jupyter.widget-view+json": {
       "version_major": 2,
       "version_minor": 0,
       "model_id": "a298989a4580490baa4d279810651a79"
      }
     },
     "metadata": {},
     "output_type": "display_data",
     "jetTransient": {
      "display_id": null
     }
    },
    {
     "data": {
      "text/plain": [
       "Round 2 ticks:   0%|          | 0/123 [00:00<?, ?it/s]"
      ],
      "application/vnd.jupyter.widget-view+json": {
       "version_major": 2,
       "version_minor": 0,
       "model_id": "25a76daa0d3d47059f520abb321598b1"
      }
     },
     "metadata": {},
     "output_type": "display_data",
     "jetTransient": {
      "display_id": null
     }
    },
    {
     "data": {
      "text/plain": [
       "Round 3 ticks:   0%|          | 0/117 [00:00<?, ?it/s]"
      ],
      "application/vnd.jupyter.widget-view+json": {
       "version_major": 2,
       "version_minor": 0,
       "model_id": "eca08abf284b4e8abccd78f3d8387d69"
      }
     },
     "metadata": {},
     "output_type": "display_data",
     "jetTransient": {
      "display_id": null
     }
    },
    {
     "name": "stdout",
     "output_type": "stream",
     "text": [
      "Done. Log created and saved succesfully\n"
     ]
    },
    {
     "name": "stderr",
     "output_type": "stream",
     "text": [
      "C:\\Users\\Kris Kruse\\Desktop\\Github\\process-csgo-star-team\\.venv\\Lib\\site-packages\\pm4py\\utils.py:986: UserWarning: In the current version, the import/export operation uses `rustxes` by default for importing/exporting files faster. Please uninstall `rustxes` to revert the behavior.\n",
      "  warnings.warn(\"In the current version, the import/export operation uses `rustxes` by default for importing/exporting files faster. Please uninstall `rustxes` to revert the behavior.\")\n"
     ]
    }
   ],
   "execution_count": 3
  },
  {
   "cell_type": "code",
   "id": "d5d31d8f-764b-408f-b289-c9d2e83c58e6",
   "metadata": {
    "ExecuteTime": {
     "end_time": "2025-10-30T09:18:50.060197Z",
     "start_time": "2025-10-30T09:18:50.058178Z"
    }
   },
   "source": [],
   "outputs": [],
   "execution_count": null
  }
 ],
 "metadata": {
  "kernelspec": {
   "display_name": "Python 3 (ipykernel)",
   "language": "python",
   "name": "python3"
  },
  "language_info": {
   "codemirror_mode": {
    "name": "ipython",
    "version": 3
   },
   "file_extension": ".py",
   "mimetype": "text/x-python",
   "name": "python",
   "nbconvert_exporter": "python",
   "pygments_lexer": "ipython3",
   "version": "3.13.2"
  }
 },
 "nbformat": 4,
 "nbformat_minor": 5
}
